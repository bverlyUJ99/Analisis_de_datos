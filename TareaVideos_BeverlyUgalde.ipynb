{
  "nbformat": 4,
  "nbformat_minor": 0,
  "metadata": {
    "colab": {
      "provenance": [],
      "authorship_tag": "ABX9TyP2d4c9JagYoqOTokSr3D8W",
      "include_colab_link": true
    },
    "kernelspec": {
      "name": "python3",
      "display_name": "Python 3"
    },
    "language_info": {
      "name": "python"
    }
  },
  "cells": [
    {
      "cell_type": "markdown",
      "metadata": {
        "id": "view-in-github",
        "colab_type": "text"
      },
      "source": [
        "<a href=\"https://colab.research.google.com/github/bverlyUJ99/Analisis_de_datos/blob/main/TareaVideos_BeverlyUgalde.ipynb\" target=\"_parent\"><img src=\"https://colab.research.google.com/assets/colab-badge.svg\" alt=\"Open In Colab\"/></a>"
      ]
    },
    {
      "cell_type": "code",
      "execution_count": null,
      "metadata": {
        "colab": {
          "base_uri": "https://localhost:8080/"
        },
        "id": "hRIxEUTgvs-c",
        "outputId": "b4b265c7-dbf8-40d7-8c42-e183f5ae0bf8"
      },
      "outputs": [
        {
          "output_type": "stream",
          "name": "stdout",
          "text": [
            "Ejercicio Bisiesto\n",
            "Ingrese el año: 2022\n",
            "El año no es Bisiesto\n"
          ]
        }
      ],
      "source": [
        "#Ejercicio 1\n",
        "print(\"Ejercicio Bisiesto\")\n",
        "anio = int(input(\"Ingrese el año: \"))\n",
        "if(anio % 400 == 0) or (anio % 4 == 0) and (anio % 100 != 0):\n",
        "  print(\"El año es Bisiesto\")\n",
        "else:\n",
        "  print(\"El año no es Bisiesto\")"
      ]
    },
    {
      "cell_type": "code",
      "source": [
        "#Ejercicio 2 - Switcher Usando un diccionario\n",
        "switcher={1:\"Enero\",2:\"Febrero\",3:\"Marzo\",4:\"Abril\",\n",
        "          5:\"Mayo\",6:\"Junio\",7:\"Julio\",8:\"Agosto\",\n",
        "          9:\"Septiembre\",10:\"Octubre\",11:\"Noviembre\",12:\"Diciembre\"}\n",
        "argument=int(input(\"Ingrese un número: \"))\n",
        "nombreMes=switcher.get(argument, \"Mes Invalido\")\n",
        "print(nombreMes)"
      ],
      "metadata": {
        "colab": {
          "base_uri": "https://localhost:8080/"
        },
        "id": "ukoSoruSwIvD",
        "outputId": "4a941f1b-0181-4ddb-8b98-6f3349c1b639"
      },
      "execution_count": null,
      "outputs": [
        {
          "output_type": "stream",
          "name": "stdout",
          "text": [
            "Ingrese un número: 2\n",
            "Febrero\n"
          ]
        }
      ]
    },
    {
      "cell_type": "code",
      "source": [
        "#Ejercicio#3 - Creación de Variables\n",
        "C=-1\n",
        "I=0\n",
        "M=0\n",
        "while(C<0) or (I<=0) or (I>=100) or (M<=0):\n",
        "        print(\"Introduce el Capital, el Interes y el tiempo apropiados\")\n",
        "        C=int(input(\"Capital: \"))\n",
        "        I=int(input(\"Interes: \"))\n",
        "        M=int(input(\"Tiempos en Años: \"))\n",
        "for i in range(M):\n",
        "    C=C*(1+ I/100)\n",
        "    print(\"Monto \", C, \" Colones\")"
      ],
      "metadata": {
        "colab": {
          "base_uri": "https://localhost:8080/"
        },
        "id": "usGfxIjbwU4n",
        "outputId": "672a30cc-b7be-4ec5-88cc-3bf0daa16a85"
      },
      "execution_count": null,
      "outputs": [
        {
          "output_type": "stream",
          "name": "stdout",
          "text": [
            "Introduce el Capital, el Interes y el tiempo apropiados\n",
            "Capital: 12389\n",
            "Interes: 12\n",
            "Tiempos en Años: 3\n",
            "Monto  13875.680000000002  Colones\n",
            "Monto  15540.761600000003  Colones\n",
            "Monto  17405.652992000007  Colones\n"
          ]
        }
      ]
    },
    {
      "cell_type": "code",
      "source": [
        "#Ejercicio#4\n",
        "print(\"Digite un número\")\n",
        "numero=int(input(\"Número: \"))\n",
        "\n",
        "while(numero>0):\n",
        "  Suma=0\n",
        "  for i in range(1, numero+1):\n",
        "    if(numero%i==0):\n",
        "      Suma=Suma+i\n",
        "  print(Suma)\n",
        "  numero=int(input(\"Número: \"))"
      ],
      "metadata": {
        "colab": {
          "base_uri": "https://localhost:8080/"
        },
        "id": "84XlCdHLwonc",
        "outputId": "ca46fc14-0df1-4291-a3fb-137187d87de8"
      },
      "execution_count": null,
      "outputs": [
        {
          "name": "stdout",
          "output_type": "stream",
          "text": [
            "Digite un número\n",
            "Número: 4\n",
            "7\n",
            "Número: 7\n",
            "8\n",
            "Número: -5\n"
          ]
        }
      ]
    },
    {
      "cell_type": "code",
      "source": [],
      "metadata": {
        "id": "He_ODx1xwkIN"
      },
      "execution_count": null,
      "outputs": []
    }
  ]
}
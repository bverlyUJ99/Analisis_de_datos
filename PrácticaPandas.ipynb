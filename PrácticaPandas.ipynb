{
  "nbformat": 4,
  "nbformat_minor": 0,
  "metadata": {
    "colab": {
      "provenance": [],
      "include_colab_link": true
    },
    "kernelspec": {
      "name": "python3",
      "display_name": "Python 3"
    },
    "language_info": {
      "name": "python"
    }
  },
  "cells": [
    {
      "cell_type": "markdown",
      "metadata": {
        "id": "view-in-github",
        "colab_type": "text"
      },
      "source": [
        "<a href=\"https://colab.research.google.com/github/bverlyUJ99/Analisis_de_datos/blob/main/Pr%C3%A1cticaPandas.ipynb\" target=\"_parent\"><img src=\"https://colab.research.google.com/assets/colab-badge.svg\" alt=\"Open In Colab\"/></a>"
      ]
    },
    {
      "cell_type": "code",
      "execution_count": null,
      "metadata": {
        "colab": {
          "base_uri": "https://localhost:8080/"
        },
        "id": "zYxMPrv9U1_4",
        "outputId": "8f2b34b6-bd34-4e80-d1d9-d8e763fbaa4b"
      },
      "outputs": [
        {
          "output_type": "stream",
          "name": "stdout",
          "text": [
            "      Country    Capital  Population\n",
            "0  Costa Rica   San José     4500000\n",
            "1       India  New Delhi  1303171035\n",
            "2      Brazil   Brasilia   207847528\n"
          ]
        }
      ],
      "source": [
        "import pandas as pd\n",
        "\n",
        "data = {'Country': ['Costa Rica', 'India', 'Brazil'],\n",
        "        'Capital':['San José', 'New Delhi','Brasilia'],\n",
        "        'Population':[4500000,1303171035,207847528]}\n",
        "df = pd.DataFrame(data,columns=['Country','Capital','Population'])\n",
        "print(df)"
      ]
    },
    {
      "cell_type": "code",
      "source": [
        "print(\"Promedio de los elementos del vector\")\n",
        "Suma=0\n",
        "Media=0\n",
        "Temp=[]\n",
        "print(\"Ingrese la cantidad de temperaturas: \")\n",
        "N=int(input())\n",
        "\n",
        "for i in range(N):\n",
        "  temperatura=float(input(\"Ingrese la temperatura: \"))\n",
        "  Temp.append(temperatura)\n",
        "  Suma=Suma+Temp[i]\n",
        "Media=Suma/N\n",
        "print(\"La media es: \"+str(Media))"
      ],
      "metadata": {
        "colab": {
          "base_uri": "https://localhost:8080/"
        },
        "id": "sYNn-X6hYt1I",
        "outputId": "89fb425b-75fb-417c-980d-b81a8b8b4944"
      },
      "execution_count": null,
      "outputs": [
        {
          "output_type": "stream",
          "name": "stdout",
          "text": [
            "Promedio de los elementos del vector\n",
            "Ingrese la cantidad de temperaturas: \n",
            "2\n",
            "Ingrese la temperatura: -0.5\n",
            "Ingrese la temperatura: 12\n",
            "La media es: 5.75\n"
          ]
        }
      ]
    },
    {
      "cell_type": "code",
      "source": [
        "import pandas as pd\n",
        "mascota = pd.DataFrame(\n",
        "    data={\n",
        "        'name': ['Minino', 'Milo','Snoppy','Blanco','LittlePony'],\n",
        "        'type': ['gato','perro','perro','perro','caballo']\n",
        "    },\n",
        "    index = [71,42,11,98,42]\n",
        ") \n",
        "\n",
        "print(mascota)\n",
        "visitas = pd.DataFrame(\n",
        "    data={\n",
        "        'pet_id': [45,25,3,42,98,71],\n",
        "        'fecha': ['2020-05-24','2019-05-10','2020-11-24','2023-02-24','2020-03-05','2021-09-14'],\n",
        "        'costo': [20000,18900,54325,100000,5630,10200],\n",
        "    }\n",
        ")\n",
        "\n",
        "mascota.index.rename('pet_id', inplace=True)\n",
        "visitas.index.rename('visit_id', inplace=True)\n",
        "print(mascota.query('pet_id==71'))\n",
        "print(visitas['costo'].sum())\n",
        "print(visitas['costo'].min())\n",
        "print(visitas['costo'].max())\n",
        "\n",
        "print(visitas)\n",
        "\n",
        "print(visitas.sort_values(by='costo', ascending=False))\n",
        "#tienda= pd.merge(mascota, visitas, how='cross')\n",
        "#print(tienda)\n"
      ],
      "metadata": {
        "colab": {
          "base_uri": "https://localhost:8080/"
        },
        "id": "xWzQvvB-bcrO",
        "outputId": "59f0b752-29fc-468f-b198-5edf6bcf8f61"
      },
      "execution_count": null,
      "outputs": [
        {
          "output_type": "stream",
          "name": "stdout",
          "text": [
            "          name     type\n",
            "71      Minino     gato\n",
            "42        Milo    perro\n",
            "11      Snoppy    perro\n",
            "98      Blanco    perro\n",
            "42  LittlePony  caballo\n",
            "          name  type\n",
            "pet_id              \n",
            "71      Minino  gato\n",
            "209055\n",
            "5630\n",
            "100000\n",
            "          pet_id       fecha   costo\n",
            "visit_id                            \n",
            "0             45  2020-05-24   20000\n",
            "1             25  2019-05-10   18900\n",
            "2              3  2020-11-24   54325\n",
            "3             42  2023-02-24  100000\n",
            "4             98  2020-03-05    5630\n",
            "5             71  2021-09-14   10200\n",
            "          pet_id       fecha   costo\n",
            "visit_id                            \n",
            "3             42  2023-02-24  100000\n",
            "2              3  2020-11-24   54325\n",
            "0             45  2020-05-24   20000\n",
            "1             25  2019-05-10   18900\n",
            "5             71  2021-09-14   10200\n",
            "4             98  2020-03-05    5630\n"
          ]
        }
      ]
    },
    {
      "cell_type": "code",
      "source": [
        "import pandas as pd\n",
        "\n",
        "students = [('Ana', 23, 'San Jose', 'A'),\n",
        "            ('Esteban', 22, 'Heredia','B'),\n",
        "            ('Juan', 22, 'Cartago','A'),\n",
        "            ('Karla', 22, 'Limon','A'),\n",
        "            ('Ernesto', 21, 'Heredia','B')]\n",
        "df = pd.DataFrame(students, columns = ['Nombre', 'Edad', 'Ciudad','Seccion'])\n",
        "print(df)"
      ],
      "metadata": {
        "colab": {
          "base_uri": "https://localhost:8080/"
        },
        "id": "0mFMwOLRWcDt",
        "outputId": "72e101ec-ed23-45be-a29b-4eee0154e712"
      },
      "execution_count": null,
      "outputs": [
        {
          "output_type": "stream",
          "name": "stdout",
          "text": [
            "    Nombre  Edad    Ciudad Seccion\n",
            "0      Ana    23  San Jose       A\n",
            "1  Esteban    22   Heredia       B\n",
            "2     Juan    22   Cartago       A\n",
            "3    Karla    22     Limon       A\n",
            "4  Ernesto    21   Heredia       B\n"
          ]
        }
      ]
    },
    {
      "cell_type": "code",
      "source": [
        "def getIndexes(dfObj,value):\n",
        "\n",
        "  listOfPos = []\n",
        "  result = dfObj.isin([value])\n",
        "  seriesObj = result.any()\n",
        "  columnNames = list(seriesObj[seriesObj == True].index)\n",
        "\n",
        "  for col in columnNames:\n",
        "    rows = list(result[col][result[col] == True].index)\n",
        "\n",
        "    for row in rows:\n",
        "      listOfPos.append((row, col))\n",
        "\n",
        "  return listOfPos\n",
        "\n"
      ],
      "metadata": {
        "id": "18KGWadDhdoO"
      },
      "execution_count": null,
      "outputs": []
    },
    {
      "cell_type": "code",
      "source": [
        "listOfPositions = getIndexes(df, 'Karla')\n",
        "\n",
        "print('Index position of 22 in DataFrame : ')\n",
        "\n",
        "for i in range(len(listOfPositions)):\n",
        "   print(listOfPositions[i])"
      ],
      "metadata": {
        "colab": {
          "base_uri": "https://localhost:8080/"
        },
        "id": "edyYUaXuj4wA",
        "outputId": "f2063b78-2c8b-4165-86ed-b3a878f82906"
      },
      "execution_count": null,
      "outputs": [
        {
          "output_type": "stream",
          "name": "stdout",
          "text": [
            "Index position of 22 in DataFrame : \n",
            "(3, 'Nombre')\n"
          ]
        }
      ]
    },
    {
      "cell_type": "code",
      "source": [],
      "metadata": {
        "id": "U_8e7DFIrrqh"
      },
      "execution_count": null,
      "outputs": []
    },
    {
      "cell_type": "code",
      "source": [
        "#Estudiantes\n",
        "#Maria Angélica Robles Azofeifa\n",
        "#Noel Muñoz Ramirez\n",
        "#Gabriel Barboza Carvajal\n",
        "#Beverly Ugalde Jenkins\n",
        "\n",
        "\n",
        "#Vamos a hacer una busqueda para obtener el procentaje de conectividad "
      ],
      "metadata": {
        "id": "z6s_PBw6qv7o"
      },
      "execution_count": null,
      "outputs": []
    }
  ]
}
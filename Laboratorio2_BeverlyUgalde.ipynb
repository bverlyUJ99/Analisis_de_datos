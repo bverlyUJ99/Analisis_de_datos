{
  "nbformat": 4,
  "nbformat_minor": 0,
  "metadata": {
    "colab": {
      "provenance": [],
      "authorship_tag": "ABX9TyPVtZFsSYZ8rxSCaZXAJLFM",
      "include_colab_link": true
    },
    "kernelspec": {
      "name": "python3",
      "display_name": "Python 3"
    },
    "language_info": {
      "name": "python"
    }
  },
  "cells": [
    {
      "cell_type": "markdown",
      "metadata": {
        "id": "view-in-github",
        "colab_type": "text"
      },
      "source": [
        "<a href=\"https://colab.research.google.com/github/bverlyUJ99/Analisis_de_datos/blob/main/Laboratorio2_BeverlyUgalde.ipynb\" target=\"_parent\"><img src=\"https://colab.research.google.com/assets/colab-badge.svg\" alt=\"Open In Colab\"/></a>"
      ]
    },
    {
      "cell_type": "code",
      "execution_count": null,
      "metadata": {
        "colab": {
          "base_uri": "https://localhost:8080/"
        },
        "id": "qs3FSrIt2cvM",
        "outputId": "e6a0e064-ba27-419d-877a-58e0638c2ae9"
      },
      "outputs": [
        {
          "output_type": "stream",
          "name": "stdout",
          "text": [
            "-------------------------------------------\n",
            "Ejemplo2: IMPRIMIR EL MENOR DE DOS NÚMEROS.\n",
            "-------------------------------------------\n",
            "Ingrese 2 números: \n",
            "Primer número:69\n",
            "Segundo número25\n",
            "\n",
            "Salida:\n",
            "-------------------------------------------\n",
            "El menor es: 25\n"
          ]
        }
      ],
      "source": [
        "print(\"-------------------------------------------\")\n",
        "print(\"Ejemplo2: IMPRIMIR EL MENOR DE DOS NÚMEROS.\")\n",
        "print(\"-------------------------------------------\")\n",
        "#Entradas\n",
        "print(\"Ingrese 2 números: \")\n",
        "x = int(input(\"Primer número:\"))\n",
        "y = int (input(\"Segundo número\"))\n",
        "print(\"\\nSalida:\")\n",
        "print(\"-------------------------------------------\")\n",
        "#Nota: No olvidarse de la identación.\n",
        "if x > y:\n",
        "  #Esto esta dentro del if\n",
        "  print(\"El menor es:\", y)\n",
        "else:\n",
        "  #Esto esta dentro del else\n",
        "    print(\"El menor es:\", x)\n",
        "\n"
      ]
    },
    {
      "cell_type": "code",
      "source": [
        "print(\"-------------------------------------------\")\n",
        "print(\"Diccionario de datos - Meses del año\")\n",
        "print(\"-------------------------------------------\")\n",
        "switcher={1:\"Enero\", 2:\"Febrero\", 3:\"Marzo\",4:\"Abril\",\n",
        "          5:\"Mayo\",6:\"Junio\",7:\"Julio\",8:\"Agosto\",\n",
        "          9:\"Septiembre\",10:\"Octubre\",11:\"Noviembre\",12:\"Diciembre\"}\n",
        "argument=int(input(\"Ingrese un número:\"))\n",
        "nameMes=switcher.get(argument, \"Mes inválido\")\n",
        "print(nameMes)"
      ],
      "metadata": {
        "colab": {
          "base_uri": "https://localhost:8080/"
        },
        "id": "EjFC6Hbv5S-Z",
        "outputId": "eafbb8c3-f85e-4bf9-a143-9f8653cc137b"
      },
      "execution_count": null,
      "outputs": [
        {
          "output_type": "stream",
          "name": "stdout",
          "text": [
            "-------------------------------------------\n",
            "Diccionario de datos - Meses del año\n",
            "-------------------------------------------\n",
            "Ingrese un número:8\n",
            "Agosto\n"
          ]
        }
      ]
    },
    {
      "cell_type": "code",
      "source": [],
      "metadata": {
        "id": "REI8QUmhVU59"
      },
      "execution_count": null,
      "outputs": []
    }
  ]
}